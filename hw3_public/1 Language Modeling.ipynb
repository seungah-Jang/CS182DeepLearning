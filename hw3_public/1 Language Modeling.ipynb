{
  "cells": [
    {
      "cell_type": "markdown",
      "metadata": {
        "id": "yIqzcT6vyUJI"
      },
      "source": [
        "# Introduction"
      ]
    },
    {
      "cell_type": "markdown",
      "metadata": {
        "id": "eQrUWcSeyUJm"
      },
      "source": [
        "<center><h3>**Welcome to the Language modeling Notebook.**</h3></center>\n",
        "\n",
        "In this assignment, you are going to train a neural network to **generate news headlines**.\n",
        "To reduce computational needs, we have reduced it to headlines about technology, and a handful of Tech giants.\n",
        "In this assignment you will:\n",
        "- Learn to preprocess raw text so it can be fed into an LSTM.\n",
        "- Make use of the LSTM library of Pytorch, to train a Language model to generate headlines\n",
        "- Use your network to generate headlines, and judge which headlines are likely or not\n",
        "\n",
        "\n"
      ]
    },
    {
      "cell_type": "markdown",
      "metadata": {
        "id": "lCAzgVCryUJr"
      },
      "source": [
        "**What is a language model?**\n",
        "\n",
        "Language modeling is the task of assigning a probability to sentences in a language. Besides assigning a probability to each sequence of words, the language models also assigns a probability for the likelihood of a given word (or a sequence of words) to follow a sequence of words.\n",
        "— Page 105, __[Neural Network Methods in Natural Language Processing](https://www.amazon.com/Language-Processing-Synthesis-Lectures-Technologies/dp/1627052984/)__, 2017.\n",
        "\n",
        "In terms of neural network, we are training a neural network to produce probabilities (classification) over a fixed vocabulary of words.\n",
        "Concretely, we are training a neural network to produce:\n",
        "$$ P ( w_{i+1} | w_1, w_2, w_3, ..., w_i), \\forall i \\in (1,n)$$\n",
        "\n",
        "** Why is language modeling important? **\n",
        "\n",
        "Language modeling is a core problem in NLP.\n",
        "\n",
        "Language models can either be used as a stand-alone to produce new text that matches the distribution of text the model is trained on, but can also be used at the front-end of a more sophisticated model to produce better results.\n",
        "\n",
        "Recently for example, the __[BERT](https://arxiv.org/abs/1810.04805)__ paper show-cased that pretraining a large neural network on a language modeling task can help improve state-of-the-art on many NLP tasks.\n",
        "\n",
        "How good can the generation of a Language model be?\n",
        "\n",
        "If you have not seen the post about GPT-2 by OpenAI, you should read some of the samples they generated from their language model __[here](https://blog.openai.com/better-language-models/#sample1)__.\n",
        "Because of computational restrictions, we will not achieve as good text production, but the same algorithm is at the core. They just use more data and compute."
      ]
    },
    {
      "cell_type": "markdown",
      "metadata": {
        "id": "LL29FMhfyUJv"
      },
      "source": [
        "# Library imports"
      ]
    },
    {
      "cell_type": "markdown",
      "metadata": {
        "id": "5OXaa4g1yUJx"
      },
      "source": [
        "Before starting, make sure you have all these libraries."
      ]
    },
    {
      "cell_type": "code",
      "execution_count": 4,
      "metadata": {
        "colab": {
          "base_uri": "https://localhost:8080/"
        },
        "id": "g81IeWKxyYO-",
        "outputId": "a1bd7b0b-f8fb-4e44-b915-da0642d9990c"
      },
      "outputs": [
        {
          "output_type": "stream",
          "name": "stdout",
          "text": [
            "Collecting segtok\n",
            "  Downloading segtok-1.5.11-py3-none-any.whl.metadata (9.0 kB)\n",
            "Requirement already satisfied: regex in /usr/local/lib/python3.11/dist-packages (from segtok) (2024.11.6)\n",
            "Downloading segtok-1.5.11-py3-none-any.whl (24 kB)\n",
            "Installing collected packages: segtok\n",
            "Successfully installed segtok-1.5.11\n"
          ]
        }
      ],
      "source": [
        "!pip install segtok"
      ]
    },
    {
      "cell_type": "markdown",
      "metadata": {
        "id": "V-G0cFzJYAp3"
      },
      "source": [
        "Run the first of the following two cells if you are running the homework locally, and run the second cell if you are running the homework in Colab"
      ]
    },
    {
      "cell_type": "code",
      "execution_count": null,
      "metadata": {
        "id": "DF8VDGfYYAp3"
      },
      "outputs": [],
      "source": [
        "DRIVE=False\n",
        "root_folder = \"\"\n",
        "dataset_folder = \"dataset/\""
      ]
    },
    {
      "cell_type": "code",
      "source": [
        "from google.colab import drive\n",
        "drive.mount('/content/drive')"
      ],
      "metadata": {
        "colab": {
          "base_uri": "https://localhost:8080/"
        },
        "id": "uN2s3_ocEYna",
        "outputId": "280a3913-f70f-4517-8bb8-8a99b14c1b5a"
      },
      "execution_count": 1,
      "outputs": [
        {
          "output_type": "stream",
          "name": "stdout",
          "text": [
            "Mounted at /content/drive\n"
          ]
        }
      ]
    },
    {
      "cell_type": "code",
      "execution_count": 2,
      "metadata": {
        "id": "se7xdZD7y-CL"
      },
      "outputs": [],
      "source": [
        "\n",
        "root_folder = \"/content/drive/MyDrive/Colab Notebooks/hw3_public/\"\n",
        "dataset_folder = \"/content/drive/MyDrive/Colab Notebooks/hw3_public/dataset/\""
      ]
    },
    {
      "cell_type": "markdown",
      "metadata": {
        "id": "F4YzckXAYAp3"
      },
      "source": [
        "\n",
        "\n",
        "\n"
      ]
    },
    {
      "cell_type": "code",
      "execution_count": 3,
      "metadata": {
        "id": "N1twBPSLyUJz"
      },
      "outputs": [],
      "source": [
        "%load_ext autoreload\n",
        "%autoreload 2"
      ]
    },
    {
      "cell_type": "code",
      "execution_count": 5,
      "metadata": {
        "id": "pPLGvVwByUJ3"
      },
      "outputs": [],
      "source": [
        "import os\n",
        "import sys\n",
        "sys.path.append(root_folder)\n",
        "from segtok import tokenizer\n",
        "from collections import Counter\n",
        "import torch as th\n",
        "from torch import nn\n",
        "import torch.nn.functional as F\n",
        "import torch.optim as optim\n",
        "\n",
        "import numpy as np\n",
        "import json\n",
        "from utils import validate_to_array"
      ]
    },
    {
      "cell_type": "markdown",
      "metadata": {
        "id": "OQTfdCRdyUJ8"
      },
      "source": [
        "# Loading the datasets"
      ]
    },
    {
      "cell_type": "markdown",
      "metadata": {
        "id": "3dNGkjKmyUJ9"
      },
      "source": [
        "Make sure the dataset files are all in the `dataset` folder of the assignment.\n",
        "\n",
        " - If you are using this notebook locally: You should run the `download_data.sh` script.\n",
        " - If you are using the Colab version of the notebook, make sure that your Google Drive is mounted, and you verify from the file explorer in Colab that the files are viewable within `/content/drive/cs182_hw3_public/dataset/`\n",
        "\n"
      ]
    },
    {
      "cell_type": "code",
      "execution_count": 6,
      "metadata": {
        "colab": {
          "base_uri": "https://localhost:8080/"
        },
        "id": "iLaRmt5uyUJ_",
        "outputId": "bdb956d8-48df-4fd6-e8a7-716193f14af8"
      },
      "outputs": [
        {
          "output_type": "stream",
          "name": "stdout",
          "text": [
            "Number of training samples: 88568\n",
            "Number of validation samples: 946\n"
          ]
        }
      ],
      "source": [
        "# This cell loads the data for the model\n",
        "# Run this before working on loading any of the additional data\n",
        "\n",
        "# tokenizing process\n",
        "with open(dataset_folder+\"headline_generation_dataset_processed.json\", \"r\") as f:\n",
        "    d_released = json.load(f)\n",
        "\n",
        "with open(dataset_folder+\"headline_generation_vocabulary.txt\", \"r\",encoding='utf8') as f:\n",
        "    vocabulary = f.read().split(\"\\n\")\n",
        "w2i = {w: i for i, w in enumerate(vocabulary)} # Word to index\n",
        "i2w = {i: w for i, w in enumerate(vocabulary)} # Index to word\n",
        "unkI, padI, startI = w2i['UNK'], w2i['PAD'], w2i['<START>']\n",
        "\n",
        "vocab_size = len(vocabulary)\n",
        "input_length = len(d_released[0]['numerized']) # The length of the first element in the dataset, they are all of the same length\n",
        "d_train = [d for d in d_released if d['cut'] == 'training']\n",
        "d_valid = [d for d in d_released if d['cut'] == 'validation']\n",
        "\n",
        "print(\"Number of training samples:\",len(d_train))\n",
        "print(\"Number of validation samples:\",len(d_valid))"
      ]
    },
    {
      "cell_type": "code",
      "source": [
        "print(i2w[5])\n",
        "print(w2i[\"apple\"])"
      ],
      "metadata": {
        "colab": {
          "base_uri": "https://localhost:8080/"
        },
        "id": "LrAV33k2JizT",
        "outputId": "07a1d6d9-d87c-4083-8876-e680732eca15"
      },
      "execution_count": 7,
      "outputs": [
        {
          "output_type": "stream",
          "name": "stdout",
          "text": [
            "apple\n",
            "5\n"
          ]
        }
      ]
    },
    {
      "cell_type": "markdown",
      "metadata": {
        "id": "u31F-vXqyUKB"
      },
      "source": [
        "Now that we have loaded the data, let's inspect one of the elements. Each sample in our dataset is has a `numerized` vector, that contains the preprocessed headline. This vector is what we will feed in to the neural network. The field `numerized` corresponds to this list of tokens. The already loaded dictionary `vocabulary` maps token lists to the actual string. Use these elements to recover `title` key of entry 1001 in the training dataset.\n",
        "\n",
        "**TODO**: Write the numerized2text function in notebook_utils and inspect element 1001 in the training dataset (`entry = d_train[1001]`).\n",
        "\n"
      ]
    },
    {
      "cell_type": "code",
      "execution_count": 8,
      "metadata": {
        "id": "GqsHaZNbyUKD"
      },
      "outputs": [],
      "source": [
        "# 단어(문자열)리스트 -> 숫자(index) 로 바꿔주는 함수\n",
        "'''\n",
        "tokenized = [\"the\", \"president\", \"says\", \"nonsense\"]\n",
        "numerized = numerize_sequence(tokenized)\n",
        "# 결과: [3, 4, 22, 2]  # \"nonsense\"는 UNK로 처리되어 2 (unkI)로 변환\n",
        "'''\n",
        "def numerize_sequence(tokenized):\n",
        "    return [w2i.get(w, unkI) for w in tokenized]\n",
        "\n",
        "'''\n",
        "👉 숫자 리스트를 지정된 길이로 맞추기 위해 패딩(padding)하고, 마스크를 생성함\n",
        "numerized = [3, 4, 5]       # [\"the\", \"president\", \"said\"]\n",
        "pad_index = 1              # PAD 토큰의 인덱스\n",
        "to_length = 6\n",
        "\n",
        "padded, mask = pad_sequence(numerized, pad_index, to_length)\n",
        "padded = [3, 4, 5, 1, 1, 1]     # PAD 토큰으로 6길이 맞춤\n",
        "mask   = [True, True, True, False, False, False]  # 마스크: 실제 단어는 True, PAD는 False\n",
        "'''\n",
        "def pad_sequence(numerized, pad_index, to_length):\n",
        "    pad = numerized[:to_length]\n",
        "    padded = pad + [pad_index] * (to_length - len(pad))\n",
        "    mask = [w != pad_index for w in padded]\n",
        "    return padded, mask"
      ]
    },
    {
      "cell_type": "code",
      "execution_count": 9,
      "metadata": {
        "colab": {
          "base_uri": "https://localhost:8080/"
        },
        "id": "C23VMn5DyUKF",
        "outputId": "ff564cec-c3af-4781-97d7-ff65b22061d3"
      },
      "outputs": [
        {
          "output_type": "stream",
          "name": "stdout",
          "text": [
            "Reversing the numerized: microsoft donates cloud computing ' worth $ 1 bn '\n",
            "From the `title` entry: Microsoft donates cloud computing 'worth $1 bn'\n"
          ]
        }
      ],
      "source": [
        "def numerized2text(numerized):\n",
        "    \"\"\" Converts an integer sequence in the vocabulary into a string corresponding to the title.\n",
        "\n",
        "        Arguments:\n",
        "            numerized: List[int]  -- The list of vocabulary indices corresponding to the string\n",
        "        Returns:\n",
        "            title: str -- The string corresponding to the numerized input, without padding.\n",
        "    \"\"\"\n",
        "    #####\n",
        "    # BEGIN YOUR CODE HERE\n",
        "    # Recover each word from the vocabulary in the list of indices in numerized, using the vocabulary variable\n",
        "    # Hint 1: Use the string.join() function to reconstruct a single string\n",
        "    # Hint 2: The objects and/or functions defined in above cells may be useful.\n",
        "    #####\n",
        "\n",
        "    words = [i2w[i] for i in numerized if i2w[i] != 'PAD']  # PAD 토큰 제거\n",
        "    converted_string = ' '.join(words)  # 공백으로 연결\n",
        "\n",
        "    #####\n",
        "    # END YOUR CODE HERE\n",
        "    #####\n",
        "\n",
        "    return converted_string\n",
        "\n",
        "entry = d_train[1001]\n",
        "print(\"Reversing the numerized: \"+numerized2text(entry['numerized']))\n",
        "validate_to_array(numerized2text,(entry['numerized'],),'numerized2text',root_folder)\n",
        "print(\"From the `title` entry: \"+ entry['title'])"
      ]
    },
    {
      "cell_type": "markdown",
      "metadata": {
        "id": "ZrpgWj1FyUKH"
      },
      "source": [
        "In language modeling, we train a model to produce the next word in the sequence given all previously generated words. This has, in practice, two steps:\n",
        "\n",
        "\n",
        "    1. Adding a special <START> token to the start of the sequence for the input. This \"shifts\" the input to the right by one. We call this the \"source\" sequence\n",
        "    2. Making the network predict the original, unshifted version (we call this the \"target\" sequence)\n",
        "\n",
        "    \n",
        "Let's take an example. Say we want to train the network on the sentence: \"The cat is great.\"\n",
        "The input to the network will be \"`<START>` The cat is great.\" The target will be: \"The cat is great\".\n",
        "    \n",
        "Therefore the first prediction is to select the word \"The\" given the `<START>` token.\n",
        "The second prediction is to produce the word \"cat\" given the two tokens \"`<START>` The\".\n",
        "At each step, the network learns to predict the next word, given all previous ones.\n",
        "    \n",
        "---"
      ]
    },
    {
      "cell_type": "markdown",
      "metadata": {
        "id": "HO2ww8XPyUKK"
      },
      "source": [
        "Your next step is to write the build_batch function. Given a dataset, we select a random subset of samples, and will build the \"inputs\" and the \"targets\" of the batch, following the procedure we've described.\n",
        "\n",
        "**TODO**: write the build_batch function. We give you the structure, and you have to fill in where we have left things `your_code`.\n"
      ]
    },
    {
      "cell_type": "code",
      "execution_count": 15,
      "metadata": {
        "id": "Kl0f7hKKyUKL"
      },
      "outputs": [],
      "source": [
        "def build_batch(dataset, indices):\n",
        "    \"\"\" Builds a batch of source and target elements from the dataset.\n",
        "\n",
        "        Arguments:\n",
        "            dataset: List[db_element] -- A list of dataset elements\n",
        "            indices: List[int] -- A list of indices of the dataset to sample\n",
        "        Returns:\n",
        "            batch_input: List[List[int]] -- List of source sequences\n",
        "            batch_target: List[List[int]] -- List of target sequences\n",
        "            batch_target_mask: List[List[int]] -- List of target batch masks\n",
        "    \"\"\"\n",
        "    #####\n",
        "    # BEGIN YOUR CODE HERE\n",
        "    #####\n",
        "\n",
        "\n",
        "    # We get a list of indices we will choose from the dataset.\n",
        "    # indices = range(iteration*batch_size,(iteration+1)*batch_size)\n",
        "\n",
        "    # Recover what the entries for the batch are\n",
        "    batch = [dataset[i] for i in indices]\n",
        "\n",
        "    # Get the raw numerized for this input, each element of the dataset has a 'numerized' key\n",
        "    batch_numerized = [entry[\"numerized\"] for entry in batch]\n",
        "\n",
        "    # Create an array of startI that will be concatenated at position 1 for the input.\n",
        "    # Should be of shape (batch_size, 1)\n",
        "    start_tokens = np.full((len(batch_numerized), 1), startI)\n",
        "\n",
        "    # Concatenate the start_tokens with the rest of the input\n",
        "    # The np.concatenate function should be useful\n",
        "    # The output should now be [batch_size, sequence_length+1]\n",
        "    batch_input = np.concatenate([start_tokens, batch_numerized], axis=1)\n",
        "\n",
        "    # Remove the last word from each element in the batch\n",
        "    # To restore the [batch_size, sequence_length] size\n",
        "    batch_input = [row[:-1] for row in batch_input]\n",
        "\n",
        "    # The target should be the un-shifted numerized input\n",
        "    batch_target = batch_numerized\n",
        "\n",
        "    # The target-mask is a 0 or 1 filter to note which tokens are\n",
        "    # padding or not, to give the loss, so the model doesn't get rewarded for\n",
        "    # predicting PAD tokens.\n",
        "    batch_target_mask = np.array([a['mask'] for a in batch])\n",
        "\n",
        "    #####\n",
        "    # END YOUR CODE HERE\n",
        "    #####\n",
        "\n",
        "    return batch_input, batch_target, batch_target_mask\n",
        "validate_to_array(build_batch,(d_train, range(100)),'build_batch',root_folder)"
      ]
    },
    {
      "cell_type": "markdown",
      "metadata": {
        "id": "fBbG3vC5yUKN"
      },
      "source": [
        "# Creating the language model"
      ]
    },
    {
      "cell_type": "markdown",
      "metadata": {
        "id": "b3Eg8rHGyUKP"
      },
      "source": [
        "Now that we've written the data pipelining, we are ready to write the Neural network.\n",
        "\n",
        "The steps to setting up a neural network to do Language modeling are:\n",
        "- Creating the placeholders for the model, where we can feed in our inputs and targets.\n",
        "- Creating an RNN of our choice, size, and with optional parameters\n",
        "- Using the RNN on our placeholder inputs.\n",
        "- Getting the output from the RNN, and projecting it into a vocabulary sized dimension, so that we can make word predictions.\n",
        "- Setting up the loss on the outputs so that the network learns to produce the correct words.\n",
        "- Finally, choosing an optimizer, and defining a training operation: using the optimizer to minimize the loss.\n",
        "\n",
        "We provide skeleton code for the model, you can fill in the `your_code` section. If you are unfamiliar with Pytorch, we provide some idea of what functions to look for, you should use the Pytorch online documentation.\n",
        "\n",
        "**TODO**: Fill in the LanguageModel in the language_model file.\n"
      ]
    },
    {
      "cell_type": "code",
      "execution_count": 11,
      "metadata": {
        "id": "rKJ2D23GyUKR"
      },
      "outputs": [],
      "source": [
        "from language_model import LanguageModel"
      ]
    },
    {
      "cell_type": "markdown",
      "metadata": {
        "id": "qz7ixZGKyUKT"
      },
      "source": [
        "# Training the model"
      ]
    },
    {
      "cell_type": "markdown",
      "metadata": {
        "id": "9sDUBkpnyUKU"
      },
      "source": [
        "Your objective is to train the Language on the dataset you are provided to reach a **validation loss <= 5.50**\n",
        "\n",
        "**TODO**: Train your model so that it achieves a validation loss of <= 5.5.\n",
        "\n",
        "**Careful**: we will be testing this loss on an unreleased test set, so make sure to evaluate properly on a validation set and not overfit. You must save the model you want us to test under: models/final_language_model (the .index, .meta and .data files)\n",
        "\n",
        "**Advice**:\n",
        "- It should be possible to attain loss <= 5.50 with a 1-layer LSTM of size 256 or less.\n",
        "- You should not need more than 10 epochs to attain the threshold. More passes over the data can however give you a better model.\n",
        "- You can however try using:\n",
        "    - LSTM dropout (Pytorch has a layer for that)\n",
        "    - Multi-layer RNN cell (Pytorch has a layer for that)\n",
        "    - Change your optimizers, tune your learning_rate, use a learning rate schedule.\n",
        "    \n",
        "**Extra credit**:\n",
        "\n",
        "Get the loss below **validation loss <= 5.00** and get 5 points of extra-credit on this assignment. Get creative,\n",
        "\n",
        "but remember, what you do should work on our held-out test set to get the points."
      ]
    },
    {
      "cell_type": "code",
      "execution_count": 12,
      "metadata": {
        "id": "b01AZj0RyUKW",
        "colab": {
          "base_uri": "https://localhost:8080/"
        },
        "outputId": "a2f25d06-4f72-4498-a800-9f535379cfd0"
      },
      "outputs": [
        {
          "output_type": "stream",
          "name": "stdout",
          "text": [
            "cuda\n"
          ]
        }
      ],
      "source": [
        "# We can create our model,\n",
        "# with parameters of our choosing.\n",
        "hidden_size = 256\n",
        "num_layers = 1\n",
        "dropout = .5\n",
        "\n",
        "# Setup the loss using cross-entropy loss.\n",
        "# The logits are the output_logits we've computed,\n",
        "# look at the pytorch docs for `CrossEntropyLoss` and `permute`\n",
        "# to align the axes correctly and to account for the masking properly.\n",
        "# The targets are the goal labels we are trying to match.\n",
        "# Note that if you directly take the mean of the loss tensor,\n",
        "# it will underestimate your loss! (why would that be?)\n",
        "# Lastly, there are a few valid forms of averaging token losses,\n",
        "# here we will take the mean of all non-mask tokens together.\n",
        "criterion = nn.CrossEntropyLoss(reduction='none')\n",
        "def loss_fn(pred, target, mask):\n",
        "    # pred: [B, T, V] → CrossEntropy는 [B*T, V]와 [B*T]\n",
        "    pred = pred.permute(0, 2, 1)  # [B, V, T]\n",
        "\n",
        "    # CrossEntropyLoss(reduction='none') → [B, T]\n",
        "    loss_tensor = criterion(pred, target)\n",
        "\n",
        "    # mask는 float32로: 0 (PAD) or 1 (valid token)\n",
        "    loss_masked = loss_tensor * mask\n",
        "\n",
        "    # 한 문장(샘플)당 평균 loss: 합계 / 실제 단어 수\n",
        "    loss_per_sample = loss_masked.sum(dim=1) / mask.sum(dim=1)\n",
        "\n",
        "    return loss_per_sample\n",
        "\n",
        "# The build_batch function outputs numpy, but our model is built in pytorch,\n",
        "# so you need to convert numpy to pytorch.\n",
        "# You also have to cast the masks into float32, target into long, and input into long.\n",
        "# Look at the `float` and `long` function.\n",
        "batch_to_torch = lambda b_in,b_target,b_mask: (\n",
        "    th.tensor(b_in).long(),\n",
        "    th.tensor(b_target).long(),\n",
        "    th.tensor(b_mask).float())\n",
        "\n",
        "\n",
        "# Look at the docs for torch.optim and pick an optimizer\n",
        "# And provide it with a start learning rate.\n",
        "optimizer_class = optim.Adam\n",
        "lr = 1e-4\n",
        "epochs = 20\n",
        "batch_size = 128\n",
        "\n",
        "model_id = 'test1'\n",
        "os.makedirs(root_folder+'models/part1/',exist_ok=True)\n",
        "\n",
        "device = th.device(\"cuda\" if th.cuda.is_available() else \"cpu\")\n",
        "print(device)\n",
        "list_to_device = lambda th_obj: [tensor.to(device) for tensor in th_obj]"
      ]
    },
    {
      "cell_type": "code",
      "execution_count": 13,
      "metadata": {
        "id": "fjIAKqbvg9ER"
      },
      "outputs": [],
      "source": [
        "model = LanguageModel(vocab_size=vocab_size, rnn_size=hidden_size, num_layers=num_layers, dropout=dropout)\n",
        "optimizer = optimizer_class(model.parameters(), lr=lr)"
      ]
    },
    {
      "cell_type": "code",
      "execution_count": 16,
      "metadata": {
        "id": "sVDHLiOmyUKX",
        "scrolled": false,
        "colab": {
          "base_uri": "https://localhost:8080/"
        },
        "outputId": "28306f9e-ffc5-4e0a-a579-d3b4136a1a34"
      },
      "outputs": [
        {
          "output_type": "stream",
          "name": "stderr",
          "text": [
            "\r  0%|          | 0/692 [00:00<?, ?it/s]/tmp/ipython-input-12-2816607708.py:37: UserWarning: Creating a tensor from a list of numpy.ndarrays is extremely slow. Please consider converting the list to a single numpy.ndarray with numpy.array() before converting to a tensor. (Triggered internally at /pytorch/torch/csrc/utils/tensor_new.cpp:254.)\n",
            "  th.tensor(b_in).long(),\n",
            "Epoch: 0 Iteration: 690 Loss: 6.695845365524292 Accuracy: 0.06382349878549576: 100%|██████████| 692/692 [00:17<00:00, 38.50it/s]\n",
            "Epoch: 1 Iteration: 690 Loss: 6.5192248821258545 Accuracy: 0.07912808507680893: 100%|██████████| 692/692 [00:15<00:00, 43.67it/s]\n",
            "Epoch: 2 Iteration: 690 Loss: 6.371744632720947 Accuracy: 0.08739121332764625: 100%|██████████| 692/692 [00:16<00:00, 42.83it/s]\n",
            "Epoch: 3 Iteration: 690 Loss: 6.2221996784210205 Accuracy: 0.10142664909362793: 100%|██████████| 692/692 [00:16<00:00, 42.08it/s]\n",
            "Epoch: 4 Iteration: 690 Loss: 6.06908392906189 Accuracy: 0.10864905118942261: 100%|██████████| 692/692 [00:16<00:00, 40.88it/s]\n",
            "Epoch: 5 Iteration: 690 Loss: 6.028002452850342 Accuracy: 0.10735293179750442: 100%|██████████| 692/692 [00:17<00:00, 40.60it/s]\n",
            "Epoch: 6 Iteration: 690 Loss: 5.854793691635132 Accuracy: 0.12033883333206177: 100%|██████████| 692/692 [00:17<00:00, 39.98it/s]\n",
            "Epoch: 7 Iteration: 690 Loss: 5.785857200622559 Accuracy: 0.12911974266171455: 100%|██████████| 692/692 [00:17<00:00, 39.71it/s]\n",
            "Epoch: 8 Iteration: 690 Loss: 5.745567417144775 Accuracy: 0.12899233922362327: 100%|██████████| 692/692 [00:17<00:00, 39.90it/s]\n",
            "Epoch: 9 Iteration: 690 Loss: 5.6347644329071045 Accuracy: 0.1429706908762455: 100%|██████████| 692/692 [00:16<00:00, 40.74it/s]\n",
            "Epoch: 10 Iteration: 690 Loss: 5.620227670669555 Accuracy: 0.14006493240594864: 100%|██████████| 692/692 [00:17<00:00, 40.53it/s]\n",
            "Epoch: 11 Iteration: 690 Loss: 5.539923048019409 Accuracy: 0.14244181364774705: 100%|██████████| 692/692 [00:17<00:00, 40.08it/s]\n",
            "Epoch: 12 Iteration: 690 Loss: 5.474682950973511 Accuracy: 0.14916723668575288: 100%|██████████| 692/692 [00:17<00:00, 40.12it/s]\n",
            "Epoch: 13 Iteration: 690 Loss: 5.401605892181396 Accuracy: 0.15718818455934525: 100%|██████████| 692/692 [00:17<00:00, 40.30it/s]\n",
            "Epoch: 14 Iteration: 690 Loss: 5.441651296615601 Accuracy: 0.15866424590349198: 100%|██████████| 692/692 [00:17<00:00, 40.29it/s]\n",
            "Epoch: 15 Iteration: 690 Loss: 5.328721332550049 Accuracy: 0.16249458193778993: 100%|██████████| 692/692 [00:17<00:00, 40.14it/s]\n",
            "Epoch: 16 Iteration: 690 Loss: 5.279442214965821 Accuracy: 0.15767648816108704: 100%|██████████| 692/692 [00:17<00:00, 40.39it/s]\n",
            "Epoch: 17 Iteration: 690 Loss: 5.242471408843994 Accuracy: 0.16249596923589707: 100%|██████████| 692/692 [00:17<00:00, 40.22it/s]\n",
            "Epoch: 18 Iteration: 690 Loss: 5.22239408493042 Accuracy: 0.16740794479846954: 100%|██████████| 692/692 [00:17<00:00, 39.87it/s]\n",
            "Epoch: 19 Iteration: 690 Loss: 5.200082492828369 Accuracy: 0.16313262283802032: 100%|██████████| 692/692 [00:17<00:00, 40.23it/s]\n"
          ]
        }
      ],
      "source": [
        "# Skeleton code\n",
        "# You have to write your own training process to obtain a\n",
        "# Good performing model on the validation set, and save it.\n",
        "\n",
        "model.train()\n",
        "losses = []\n",
        "accuracies = []\n",
        "from tqdm import tqdm\n",
        "for epoch in range(epochs):\n",
        "    indices = np.random.permutation(range(len(d_train)))\n",
        "    t = tqdm(range(0,(len(d_train)//batch_size)+1))\n",
        "    for i in t:\n",
        "        # Here is how you obtain a batch:\n",
        "        batch = build_batch(d_train, indices[i*batch_size:(i+1)*batch_size])\n",
        "        (batch_input, batch_target, batch_target_mask) = batch_to_torch(*batch)\n",
        "        (batch_input, batch_target, batch_target_mask) = list_to_device((batch_input, batch_target, batch_target_mask))\n",
        "        model.to(device)\n",
        "\n",
        "        prediction = model(batch_input)\n",
        "        loss = loss_fn(prediction, batch_target, batch_target_mask).mean()\n",
        "        losses.append(loss.item())\n",
        "        accuracy = (th.eq(prediction.argmax(dim=2,keepdim=False),batch_target).float()*batch_target_mask).sum()/batch_target_mask.sum()\n",
        "        accuracies.append(accuracy.item())\n",
        "\n",
        "        #  역전파 + 최적화\n",
        "        optimizer.zero_grad()\n",
        "        loss.backward()\n",
        "        optimizer.step()\n",
        "\n",
        "        if i % 10 == 0:\n",
        "            t.set_description(f\"Epoch: {epoch} Iteration: {i} Loss: {np.mean(losses[-10:])} Accuracy: {np.mean(accuracies[-10:])}\")\n",
        "    # save your latest model\n",
        "    save_dict = dict(\n",
        "        kwargs = dict(\n",
        "            vocab_size=vocab_size,\n",
        "            rnn_size=hidden_size,\n",
        "            num_layers=num_layers,\n",
        "            dropout=dropout\n",
        "        ),\n",
        "        model_state_dict = model.state_dict(),\n",
        "        notes = \"\",\n",
        "        optimizer_class = optimizer_class,\n",
        "        lr = lr,\n",
        "        epochs = epochs,\n",
        "        batch_size = batch_size,\n",
        "    )\n",
        "    th.save(save_dict,root_folder+f'models/part1/model_{model_id}.pt')"
      ]
    },
    {
      "cell_type": "markdown",
      "metadata": {
        "id": "fhaj6XIdyUKZ"
      },
      "source": [
        "# Using the language model"
      ]
    },
    {
      "cell_type": "markdown",
      "metadata": {
        "id": "9lgsKMqmyUKa"
      },
      "source": [
        "Congratulations, you have now trained a language model! We can now use it to evaluate likely news headlines, as well as generate our very own headlines.\n",
        "\n",
        "**TODO**: Complete the three parts below, using the model you have trained."
      ]
    },
    {
      "cell_type": "markdown",
      "metadata": {
        "id": "EnR8ma3cyUKb"
      },
      "source": [
        "## (1) Evaluation loss\n",
        "\n",
        "To evaluate the language model, we evaluate its loss (ability to predict) on unseen data that is reserved for evaluation.\n",
        "Your first evaluation is to load the model you trained, and obtain a test loss. If you are running this validation and not training, run the setup cell above the training loop first."
      ]
    },
    {
      "cell_type": "code",
      "execution_count": 18,
      "metadata": {
        "id": "zkL164RCyUKc",
        "colab": {
          "base_uri": "https://localhost:8080/"
        },
        "outputId": "ff2134a1-04ba-426b-f122-12be47e43b7a"
      },
      "outputs": [
        {
          "output_type": "execute_result",
          "data": {
            "text/plain": [
              "LanguageModel(\n",
              "  (embedding): Embedding(10000, 256)\n",
              "  (lstm): LSTM(256, 256, batch_first=True)\n",
              "  (output): Linear(in_features=256, out_features=10000, bias=True)\n",
              ")"
            ]
          },
          "metadata": {},
          "execution_count": 18
        }
      ],
      "source": [
        "model_id = \"test1\"\n",
        "save_dict = th.load(root_folder+'models/part1/'+f\"model_{model_id}.pt\",map_location='cpu', weights_only=False)\n",
        "model = LanguageModel(**save_dict['kwargs'])\n",
        "model.load_state_dict(save_dict['model_state_dict'])\n",
        "model.eval()"
      ]
    },
    {
      "cell_type": "code",
      "execution_count": 20,
      "metadata": {
        "id": "o0B71owvyUKe",
        "colab": {
          "base_uri": "https://localhost:8080/"
        },
        "outputId": "cb0eaeed-ffda-4cd0-9252-1d20d2f220e8"
      },
      "outputs": [
        {
          "output_type": "stream",
          "name": "stdout",
          "text": [
            "Evaluation set loss: 5.476267337799072\n"
          ]
        }
      ],
      "source": [
        "# We will evaluate your model in the best_models folder\n",
        "# In a very similar way as the code below.\n",
        "# Make sure your validation loss is below the threshold we specified\n",
        "# and that you didn't train using the validation set\n",
        "\n",
        "batch = build_batch(d_valid, range(len(d_valid)))\n",
        "(batch_input, batch_target, batch_target_mask) = batch_to_torch(*batch)\n",
        "prediction = model(batch_input.long())\n",
        "loss = loss_fn(prediction, batch_target, batch_target_mask)\n",
        "print(\"Evaluation set loss:\", loss.mean().item())"
      ]
    },
    {
      "cell_type": "code",
      "execution_count": 21,
      "metadata": {
        "id": "2W-FFdHoyUKg"
      },
      "outputs": [],
      "source": [
        "# Your best performing model should go here.\n",
        "os.makedirs(root_folder+\"best_models\",exist_ok=True)\n",
        "best_model_file = root_folder+\"best_models/part1_best_model.pt\"\n",
        "th.save(save_dict,best_model_file)"
      ]
    },
    {
      "cell_type": "markdown",
      "metadata": {
        "id": "-oP9wBwfyUKj"
      },
      "source": [
        "## (2) Evaluation of likelihood of data\n",
        "\n",
        "One use of a language model is to see what data is more likely to have originated from the training data. Because we have trained our model on news headlines, we can see which of these headlines is more likely:\n",
        "\n",
        "``Apple to release another iPhone in September``\n",
        "\n",
        "\n",
        " ``Apple and Samsung resolve all lawsuits amicably``\n",
        "\n",
        "**TODO**: Use the model to obtain the loss the neural network assigns to each sentence.\n",
        "Because the neural network assigns probability to the words appearing in a sequence, this loss can be used as a proxy to measure how likely the sentence is to have occurred in the dataset.\n",
        "Once you have the loss for each headline, write down which sentence was judged to be more likely, and explain why/if you think this is coherent.\n",
        "\n",
        "**Your answer:** apple to release new iphone in july\n"
      ]
    },
    {
      "cell_type": "code",
      "execution_count": 22,
      "metadata": {
        "id": "CH-YlqE2yUKk"
      },
      "outputs": [],
      "source": [
        "from segtok.tokenizer import word_tokenizer\n",
        "\n",
        "def raw_sample_pred(headline, model):\n",
        "    #####\n",
        "    # BEGIN YOUR CODE HERE\n",
        "    #####\n",
        "    # From the code in the Preprocessing section at the end of the notebook\n",
        "    # Find out how to tokenize the headline\n",
        "    tokenized = word_tokenizer(headline.lower())\n",
        "\n",
        "    # Find out how to numerize the tokenized headline\n",
        "    numerized = [w2i.get(w, unkI) for w in tokenized]\n",
        "\n",
        "    # Learn how to pad and obtain the mask of the sequence.\n",
        "    padded, mask = pad_sequence(numerized, padI, input_length)\n",
        "\n",
        "    input_headline = [startI] + padded[:-1]\n",
        "    target_headline = padded\n",
        "\n",
        "    input_headline = th.tensor([input_headline]).long()\n",
        "    target_headline = th.tensor([target_headline]).long()\n",
        "    mask = th.tensor([mask]).float()\n",
        "\n",
        "    pred_headline = model(input_headline)\n",
        "\n",
        "    #####\n",
        "    # END YOUR CODE HERE\n",
        "    #####\n",
        "\n",
        "    return pred_headline,target_headline,mask"
      ]
    },
    {
      "cell_type": "code",
      "execution_count": 26,
      "metadata": {
        "id": "LexHAsuiyUKm",
        "colab": {
          "base_uri": "https://localhost:8080/"
        },
        "outputId": "39baed78-3461-495b-8d8f-1a5894c291e8"
      },
      "outputs": [
        {
          "output_type": "stream",
          "name": "stdout",
          "text": [
            "----------------------------------------\n",
            "Headline: apple to release new iphone in july\n",
            "Loss of the headline: 3.4372658729553223\n",
            "----------------------------------------\n",
            "Headline: apple and samsung resolve all lawsuits\n",
            "Loss of the headline: 5.196617126464844\n"
          ]
        }
      ],
      "source": [
        "model.eval()\n",
        "\n",
        "headline1 = \"Apple to release new iPhone in July\"\n",
        "headline2 = \"Apple and Samsung resolve all lawsuits\"\n",
        "\n",
        "headlines = [headline1.lower(), headline2.lower()] # Our LSTM is trained on lower-cased headlines\n",
        "for headline in headlines:\n",
        "    pred_headline,target_headline,mask = raw_sample_pred(headline, model)\n",
        "    loss = loss_fn(pred_headline, target_headline, mask).mean().item()\n",
        "    print(\"----------------------------------------\")\n",
        "    print(\"Headline:\", headline)\n",
        "    print(\"Loss of the headline:\", loss)\n",
        "#validate_to_array(raw_sample_pred,zip(headlines,[model]*2),'raw_sample_pred',root_folder,multi=True)\n",
        "# Important check: one headline should be more likely (and have lower loss)\n",
        "# Than the other headline. You should know which headline should have lower loss."
      ]
    },
    {
      "cell_type": "markdown",
      "metadata": {
        "id": "kpn8XlLXyUKn"
      },
      "source": [
        "## (3) Generation of headlines\n",
        "\n",
        "We can use our language model to generate text according to the distribution of our training data.\n",
        "The way generation works is the following:\n",
        "\n",
        "We seed the model with a beginning of sequence, and obtain the distribution for the next word.\n",
        "We select the most likely word (argmax) and add it to our sequence of words.\n",
        "Now our sequence is one word longer, and we can feed it in again as an input, for the network to produce the next sentence.\n",
        "We do this a fixed number of times (up to 20 words), and obtain automatically generated headlines!\n"
      ]
    },
    {
      "cell_type": "markdown",
      "metadata": {
        "id": "hycdvFs6yUKo"
      },
      "source": [
        "We have provided a few headline starters that should produce interesting generated headlines.\n",
        "\n",
        "**TODO:** Get creative and find at least 2 more headline_starters that produce interesting headlines."
      ]
    },
    {
      "cell_type": "code",
      "execution_count": 27,
      "metadata": {
        "id": "GCYvwLw1yUKp"
      },
      "outputs": [],
      "source": [
        "def generate_sentence(headline_starter, model):\n",
        "    # Tokenize and numerize the headline. Put the numerized headline\n",
        "    # beginning in `current_build`\n",
        "    tokenized = tokenizer.word_tokenizer(headline_starter.lower())\n",
        "    current_build = [startI] + numerize_sequence(tokenized)\n",
        "\n",
        "    while len(current_build) < input_length:\n",
        "        # Pad the current_build into a input_length vector.\n",
        "        # We do this so that it can be processed by our LanguageModel class\n",
        "        current_padded, _m = pad_sequence(current_build, padI, input_length)\n",
        "        input_tensor = th.tensor([current_padded]).long()\n",
        "\n",
        "        # Obtain the logits for the current padded sequence\n",
        "        # This involves obtaining the output_logits from our model,\n",
        "        # and not the loss like we have done so far\n",
        "        logits = model(input_tensor)\n",
        "        logits_np = logits.detach().cpu().numpy()\n",
        "\n",
        "        # Obtain the row of logits that interest us, the logits for the last non-pad\n",
        "        # inputs\n",
        "        last_index = len(current_build) - 1\n",
        "        last_logits = logits[0, last_index]  # [vocab_size]\n",
        "        # Find the highest scoring words in the last_logits\n",
        "        # array, or sample from the softmax.\n",
        "        # The np.argmax function may be useful for first option,\n",
        "        # sp.special.softmax and np.random.choice may be useful for second option.\n",
        "        # Append this word to our current build\n",
        "        next_token = int(th.argmax(last_logits))\n",
        "\n",
        "        current_build.append(next_token)\n",
        "\n",
        "    # Go from the current_build of word_indices\n",
        "    # To the headline (string) produced. This should involve\n",
        "    # the vocabulary, and a string merger.\n",
        "    produced_sentence = \" \".join([i2w[idx] for idx in current_build if idx != padI])\n",
        "    return produced_sentence"
      ]
    },
    {
      "cell_type": "code",
      "execution_count": 28,
      "metadata": {
        "id": "xVKeMmSAyUKq",
        "scrolled": true,
        "colab": {
          "base_uri": "https://localhost:8080/"
        },
        "outputId": "aa2c1c14-9e0e-4f50-fa1f-5bd6905ed07c"
      },
      "outputs": [
        {
          "output_type": "stream",
          "name": "stdout",
          "text": [
            "===================\n",
            "Generating headline starting with: apple has released\n",
            "<START> apple has released a UNK UNK to the iphone x , but it's not a UNK ? UNK UNK\n",
            "===================\n",
            "Generating headline starting with: google has released\n",
            "<START> google has released a UNK UNK UNK UNK UNK UNK UNK UNK UNK UNK UNK UNK UNK UNK UNK\n",
            "===================\n",
            "Generating headline starting with: amazon\n",
            "<START> amazon to buy UNK UNK for $ UNK million in UNK UNK UNK UNK UNK UNK UNK UNK UNK\n",
            "===================\n",
            "Generating headline starting with: tesla to\n",
            "<START> tesla to buy apple in china , UNK says UNK UNK UNK UNK UNK UNK UNK UNK UNK UNK\n"
          ]
        }
      ],
      "source": [
        "model.eval()\n",
        "# Here are some headline starters.\n",
        "# They're all about tech companies, because\n",
        "# That is what is in our dataset\n",
        "headline_starters = [\"apple has released\", \"google has released\", \"amazon\", \"tesla to\"]\n",
        "for headline_starter in headline_starters:\n",
        "    print(\"===================\")\n",
        "    print(\"Generating headline starting with: \"+headline_starter)\n",
        "\n",
        "    produced_sentence = generate_sentence(headline_starter, model)\n",
        "    print(produced_sentence)\n",
        "validate_to_array(generate_sentence,zip(headline_starters,[model]*len(headline_starters)),\"generate_sentence\",root_folder,multi=True)"
      ]
    },
    {
      "cell_type": "markdown",
      "metadata": {
        "id": "JQ6ni5GZyUKr"
      },
      "source": [
        "## All done\n",
        "\n",
        "You are done with the first part of the HW.\n",
        "\n",
        "Next notebook deals with Summarization of text!\n"
      ]
    },
    {
      "cell_type": "markdown",
      "metadata": {
        "heading_collapsed": true,
        "id": "QoPgKURxyUKs"
      },
      "source": [
        "# Preprocessing (read only)\n"
      ]
    },
    {
      "cell_type": "markdown",
      "metadata": {
        "hidden": true,
        "id": "FfOq00MZyUKt"
      },
      "source": [
        "**You can skip this section, however you may find these functions useful in later sections of this notebook**\n",
        "\n",
        "We have provided this code so you see how the dataset was generated. You will have to come back some of these functions later in the assignment, so feel free to read through, to get familiar."
      ]
    },
    {
      "cell_type": "code",
      "execution_count": null,
      "metadata": {
        "hidden": true,
        "id": "uS8FUmo9yUKt"
      },
      "outputs": [],
      "source": [
        "# You do not need to run this\n",
        "# This is to show you how the dataset was created\n",
        "# You should read to understand, so you can preprocess text\n",
        "# In the same way, in the evaluation section\n",
        "\n",
        "for a in dataset:\n",
        "    a['tokenized'] = tokenizer.word_tokenizer(a['title'].lower())"
      ]
    },
    {
      "cell_type": "code",
      "execution_count": null,
      "metadata": {
        "hidden": true,
        "id": "g_9okOHoyUKu",
        "scrolled": true
      },
      "outputs": [],
      "source": [
        "# You do not need to run this\n",
        "# This is to show you how the dataset was created\n",
        "# You should read to understand, so you can preprocess text\n",
        "# In the same way, in the evaluation section\n",
        "\n",
        "word_counts = Counter()\n",
        "for a in dataset:\n",
        "    word_counts.update(a['tokenized'])\n",
        "\n",
        "print(word_counts.most_common(30))"
      ]
    },
    {
      "cell_type": "code",
      "execution_count": null,
      "metadata": {
        "hidden": true,
        "id": "OhNeO1LdyUKv"
      },
      "outputs": [],
      "source": [
        "# You do not need to run this\n",
        "# This is to show you how the dataset was created\n",
        "# You should read to understand, so you can preprocess text\n",
        "# In the same way, in the evaluation section\n",
        "\n",
        "# Creating the vocab\n",
        "vocab_size = 20000\n",
        "special_words = [\"<START>\", \"UNK\", \"PAD\"]\n",
        "vocabulary = special_words + [w for w, c in word_counts.most_common(vocab_size-len(special_words))]\n",
        "w2i = {w: i for i, w in enumerate(vocabulary)}\n",
        "\n",
        "# Numerizing and padding\n",
        "input_length = 20\n",
        "unkI, padI, startI = w2i['UNK'], w2i['PAD'], w2i['<START>']\n",
        "\n",
        "for a in dataset:\n",
        "    a['numerized'] = numerize_sequence(a['tokenized']) # Change words to IDs\n",
        "    a['numerized'], a['mask'] = pad_sequence(a['numerized'], padI, input_length) # Append appropriate PAD tokens\n",
        "\n",
        "# Compute fraction of words that are UNK:\n",
        "word_counters = Counter([w for a in dataset for w in a['input'] if w != padI])\n",
        "\n",
        "print(\"Fraction of UNK words:\", float(word_counters[unkI]) / sum(word_counters.values()))"
      ]
    },
    {
      "cell_type": "code",
      "execution_count": null,
      "metadata": {
        "hidden": true,
        "id": "rpeDdDrUyUKw"
      },
      "outputs": [],
      "source": [
        "# You do not need to run this\n",
        "# This is to show you how the dataset was created\n",
        "# You should read to understand, so you can preprocess text\n",
        "# In the same way, in the evaluation section\n",
        "\n",
        "d_released_processed   = [d for d in dataset if d['cut'] != 'testing']\n",
        "d_unreleased_processed = [d for d in dataset if d['cut'] == 'testing']\n",
        "\n",
        "with open(\"dataset/headline_generation_dataset_processed.json\", \"w\") as f:\n",
        "    json.dump(d_released_processed, f)\n",
        "\n",
        "# This file is purposefully left out of the assignment, we will use it to evaluate your model.\n",
        "with open(\"dataset/headline_generation_dataset_unreleased_processed.json\", \"w\") as f:\n",
        "    json.dump(d_unreleased_processed, f)\n",
        "\n",
        "with open(\"dataset/headline_generation_vocabulary.txt\", \"w\") as f:\n",
        "    f.write(\"\\n\".join(vocabulary).encode('utf8'))"
      ]
    },
    {
      "cell_type": "code",
      "execution_count": null,
      "metadata": {
        "id": "lS--8I0KlDvO"
      },
      "outputs": [],
      "source": []
    }
  ],
  "metadata": {
    "accelerator": "GPU",
    "anaconda-cloud": {},
    "colab": {
      "provenance": []
    },
    "kernelspec": {
      "display_name": "Python 3",
      "language": "python",
      "name": "python3"
    },
    "language_info": {
      "codemirror_mode": {
        "name": "ipython",
        "version": 3
      },
      "file_extension": ".py",
      "mimetype": "text/x-python",
      "name": "python",
      "nbconvert_exporter": "python",
      "pygments_lexer": "ipython3",
      "version": "3.8.5"
    },
    "varInspector": {
      "cols": {
        "lenName": 16,
        "lenType": 16,
        "lenVar": 40
      },
      "kernels_config": {
        "python": {
          "delete_cmd_postfix": "",
          "delete_cmd_prefix": "del ",
          "library": "var_list.py",
          "varRefreshCmd": "print(var_dic_list())"
        },
        "r": {
          "delete_cmd_postfix": ") ",
          "delete_cmd_prefix": "rm(",
          "library": "var_list.r",
          "varRefreshCmd": "cat(var_dic_list()) "
        }
      },
      "types_to_exclude": [
        "module",
        "function",
        "builtin_function_or_method",
        "instance",
        "_Feature"
      ],
      "window_display": false
    }
  },
  "nbformat": 4,
  "nbformat_minor": 0
}